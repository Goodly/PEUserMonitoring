{
 "cells": [
  {
   "cell_type": "code",
   "execution_count": 100,
   "metadata": {},
   "outputs": [],
   "source": [
    "import numpy as np\n",
    "import pandas as pd\n",
    "import matplotlib as plt"
   ]
  },
  {
   "cell_type": "code",
   "execution_count": 101,
   "metadata": {
    "scrolled": false
   },
   "outputs": [
    {
     "data": {
      "text/html": [
       "<div>\n",
       "<style scoped>\n",
       "    .dataframe tbody tr th:only-of-type {\n",
       "        vertical-align: middle;\n",
       "    }\n",
       "\n",
       "    .dataframe tbody tr th {\n",
       "        vertical-align: top;\n",
       "    }\n",
       "\n",
       "    .dataframe thead th {\n",
       "        text-align: right;\n",
       "    }\n",
       "</style>\n",
       "<table border=\"1\" class=\"dataframe\">\n",
       "  <thead>\n",
       "    <tr style=\"text-align: right;\">\n",
       "      <th></th>\n",
       "      <th>schema_namespace</th>\n",
       "      <th>schema_sha256</th>\n",
       "      <th>quiz_task_uuid</th>\n",
       "      <th>task_url</th>\n",
       "      <th>tua_uuid</th>\n",
       "      <th>article_batch_name</th>\n",
       "      <th>article_number</th>\n",
       "      <th>article_filename</th>\n",
       "      <th>article_sha256</th>\n",
       "      <th>article_text_length</th>\n",
       "      <th>...</th>\n",
       "      <th>answer_label</th>\n",
       "      <th>answer_content</th>\n",
       "      <th>answer_uuid</th>\n",
       "      <th>submitted_tua_uuid</th>\n",
       "      <th>answer_text</th>\n",
       "      <th>case_number</th>\n",
       "      <th>highlight_count</th>\n",
       "      <th>start_pos</th>\n",
       "      <th>end_pos</th>\n",
       "      <th>target_text</th>\n",
       "    </tr>\n",
       "  </thead>\n",
       "  <tbody>\n",
       "    <tr>\n",
       "      <th>0</th>\n",
       "      <td>ProbabilitySpecialist_2019_08_05</td>\n",
       "      <td>65f41c5a11228e225f5a1f7fecdda76385de5b42626d8b...</td>\n",
       "      <td>33aeb7c3-b1f5-42a0-a94f-9a78d26ca939</td>\n",
       "      <td>https://pe.goodlylabs.org/project/BETA_Probabi...</td>\n",
       "      <td>7b3e1610-dd67-41ea-88f8-1f45dd5bcf9d</td>\n",
       "      <td>Demo2</td>\n",
       "      <td>1712</td>\n",
       "      <td>1712SSSArticle12.txt</td>\n",
       "      <td>38428e24cdfa0392f3f5e1efda3253ffab6d7ed3051b1d...</td>\n",
       "      <td>5385</td>\n",
       "      <td>...</td>\n",
       "      <td>T1.Q1.A1</td>\n",
       "      <td>Yes</td>\n",
       "      <td>526d6416-1d0f-40c6-8e9e-df8f44536bbf</td>\n",
       "      <td>0c9734e7-1ff8-4408-8db0-89e172d91ab5</td>\n",
       "      <td>Yes</td>\n",
       "      <td>1</td>\n",
       "      <td>1</td>\n",
       "      <td>3644</td>\n",
       "      <td>3677</td>\n",
       "      <td>it certainly seems to be the case</td>\n",
       "    </tr>\n",
       "    <tr>\n",
       "      <th>1</th>\n",
       "      <td>ProbabilitySpecialist_2019_08_05</td>\n",
       "      <td>65f41c5a11228e225f5a1f7fecdda76385de5b42626d8b...</td>\n",
       "      <td>33aeb7c3-b1f5-42a0-a94f-9a78d26ca939</td>\n",
       "      <td>https://pe.goodlylabs.org/project/BETA_Probabi...</td>\n",
       "      <td>7b3e1610-dd67-41ea-88f8-1f45dd5bcf9d</td>\n",
       "      <td>Demo2</td>\n",
       "      <td>1712</td>\n",
       "      <td>1712SSSArticle12.txt</td>\n",
       "      <td>38428e24cdfa0392f3f5e1efda3253ffab6d7ed3051b1d...</td>\n",
       "      <td>5385</td>\n",
       "      <td>...</td>\n",
       "      <td>T1.Q2.A3</td>\n",
       "      <td>Somewhat justified</td>\n",
       "      <td>7dff2434-b492-4089-8f8f-5da4704ce257</td>\n",
       "      <td>4bf28294-007a-4da4-85bb-89db89b5076e</td>\n",
       "      <td>Somewhat justified</td>\n",
       "      <td>0</td>\n",
       "      <td>0</td>\n",
       "      <td>0</td>\n",
       "      <td>0</td>\n",
       "      <td>NaN</td>\n",
       "    </tr>\n",
       "    <tr>\n",
       "      <th>2</th>\n",
       "      <td>ProbabilitySpecialist_2019_08_05</td>\n",
       "      <td>65f41c5a11228e225f5a1f7fecdda76385de5b42626d8b...</td>\n",
       "      <td>33aeb7c3-b1f5-42a0-a94f-9a78d26ca939</td>\n",
       "      <td>https://pe.goodlylabs.org/project/BETA_Probabi...</td>\n",
       "      <td>7b3e1610-dd67-41ea-88f8-1f45dd5bcf9d</td>\n",
       "      <td>Demo2</td>\n",
       "      <td>1712</td>\n",
       "      <td>1712SSSArticle12.txt</td>\n",
       "      <td>38428e24cdfa0392f3f5e1efda3253ffab6d7ed3051b1d...</td>\n",
       "      <td>5385</td>\n",
       "      <td>...</td>\n",
       "      <td>T1.Q5.A2</td>\n",
       "      <td>Yes, implicitly</td>\n",
       "      <td>63440ba4-1f4b-4bf8-9d12-dd59c8429bfd</td>\n",
       "      <td>c51886b9-08d1-427f-a7aa-02df8e805c74</td>\n",
       "      <td>Yes, implicitly</td>\n",
       "      <td>1</td>\n",
       "      <td>1</td>\n",
       "      <td>2574</td>\n",
       "      <td>2632</td>\n",
       "      <td>thought was likely the result of inappropriate...</td>\n",
       "    </tr>\n",
       "  </tbody>\n",
       "</table>\n",
       "<p>3 rows × 31 columns</p>\n",
       "</div>"
      ],
      "text/plain": [
       "                   schema_namespace  \\\n",
       "0  ProbabilitySpecialist_2019_08_05   \n",
       "1  ProbabilitySpecialist_2019_08_05   \n",
       "2  ProbabilitySpecialist_2019_08_05   \n",
       "\n",
       "                                       schema_sha256  \\\n",
       "0  65f41c5a11228e225f5a1f7fecdda76385de5b42626d8b...   \n",
       "1  65f41c5a11228e225f5a1f7fecdda76385de5b42626d8b...   \n",
       "2  65f41c5a11228e225f5a1f7fecdda76385de5b42626d8b...   \n",
       "\n",
       "                         quiz_task_uuid  \\\n",
       "0  33aeb7c3-b1f5-42a0-a94f-9a78d26ca939   \n",
       "1  33aeb7c3-b1f5-42a0-a94f-9a78d26ca939   \n",
       "2  33aeb7c3-b1f5-42a0-a94f-9a78d26ca939   \n",
       "\n",
       "                                            task_url  \\\n",
       "0  https://pe.goodlylabs.org/project/BETA_Probabi...   \n",
       "1  https://pe.goodlylabs.org/project/BETA_Probabi...   \n",
       "2  https://pe.goodlylabs.org/project/BETA_Probabi...   \n",
       "\n",
       "                               tua_uuid article_batch_name  article_number  \\\n",
       "0  7b3e1610-dd67-41ea-88f8-1f45dd5bcf9d              Demo2            1712   \n",
       "1  7b3e1610-dd67-41ea-88f8-1f45dd5bcf9d              Demo2            1712   \n",
       "2  7b3e1610-dd67-41ea-88f8-1f45dd5bcf9d              Demo2            1712   \n",
       "\n",
       "       article_filename                                     article_sha256  \\\n",
       "0  1712SSSArticle12.txt  38428e24cdfa0392f3f5e1efda3253ffab6d7ed3051b1d...   \n",
       "1  1712SSSArticle12.txt  38428e24cdfa0392f3f5e1efda3253ffab6d7ed3051b1d...   \n",
       "2  1712SSSArticle12.txt  38428e24cdfa0392f3f5e1efda3253ffab6d7ed3051b1d...   \n",
       "\n",
       "   article_text_length  ... answer_label      answer_content  \\\n",
       "0                 5385  ...     T1.Q1.A1                 Yes   \n",
       "1                 5385  ...     T1.Q2.A3  Somewhat justified   \n",
       "2                 5385  ...     T1.Q5.A2     Yes, implicitly   \n",
       "\n",
       "                            answer_uuid                    submitted_tua_uuid  \\\n",
       "0  526d6416-1d0f-40c6-8e9e-df8f44536bbf  0c9734e7-1ff8-4408-8db0-89e172d91ab5   \n",
       "1  7dff2434-b492-4089-8f8f-5da4704ce257  4bf28294-007a-4da4-85bb-89db89b5076e   \n",
       "2  63440ba4-1f4b-4bf8-9d12-dd59c8429bfd  c51886b9-08d1-427f-a7aa-02df8e805c74   \n",
       "\n",
       "          answer_text case_number highlight_count  start_pos end_pos  \\\n",
       "0                 Yes           1               1       3644    3677   \n",
       "1  Somewhat justified           0               0          0       0   \n",
       "2     Yes, implicitly           1               1       2574    2632   \n",
       "\n",
       "                                         target_text  \n",
       "0                  it certainly seems to be the case  \n",
       "1                                                NaN  \n",
       "2  thought was likely the result of inappropriate...  \n",
       "\n",
       "[3 rows x 31 columns]"
      ]
     },
     "execution_count": 101,
     "metadata": {},
     "output_type": "execute_result"
    }
   ],
   "source": [
    "# Example DataHunt CSV\n",
    "\n",
    "df = pd.read_csv(\"testing-format/BETA_Probability-2020-05-20T0111-DataHunt.csv\")\n",
    "df.head(3)"
   ]
  },
  {
   "cell_type": "code",
   "execution_count": 102,
   "metadata": {
    "scrolled": false
   },
   "outputs": [
    {
     "data": {
      "text/plain": [
       "Index(['schema_namespace', 'schema_sha256', 'quiz_task_uuid', 'task_url',\n",
       "       'tua_uuid', 'article_batch_name', 'article_number', 'article_filename',\n",
       "       'article_sha256', 'article_text_length', 'destination',\n",
       "       'task_redundancy', 'taskrun_count', 'quiz_taskrun_uuid',\n",
       "       'contributor_uuid', 'created', 'finish_time', 'elapsed_seconds',\n",
       "       'topic_name', 'question_label', 'question_text', 'answer_label',\n",
       "       'answer_content', 'answer_uuid', 'submitted_tua_uuid', 'answer_text',\n",
       "       'case_number', 'highlight_count', 'start_pos', 'end_pos',\n",
       "       'target_text'],\n",
       "      dtype='object')"
      ]
     },
     "execution_count": 102,
     "metadata": {},
     "output_type": "execute_result"
    }
   ],
   "source": [
    "df.columns"
   ]
  },
  {
   "cell_type": "code",
   "execution_count": 103,
   "metadata": {
    "scrolled": false
   },
   "outputs": [
    {
     "data": {
      "text/html": [
       "<div>\n",
       "<style scoped>\n",
       "    .dataframe tbody tr th:only-of-type {\n",
       "        vertical-align: middle;\n",
       "    }\n",
       "\n",
       "    .dataframe tbody tr th {\n",
       "        vertical-align: top;\n",
       "    }\n",
       "\n",
       "    .dataframe thead th {\n",
       "        text-align: right;\n",
       "    }\n",
       "</style>\n",
       "<table border=\"1\" class=\"dataframe\">\n",
       "  <thead>\n",
       "    <tr style=\"text-align: right;\">\n",
       "      <th></th>\n",
       "      <th>Article_num</th>\n",
       "      <th>Article_sha256</th>\n",
       "      <th>quiz_task_uuid</th>\n",
       "      <th>schema_namespace</th>\n",
       "      <th>num_answer_choices</th>\n",
       "      <th>question_Number</th>\n",
       "      <th>question_type</th>\n",
       "      <th>agreed_answer</th>\n",
       "    </tr>\n",
       "  </thead>\n",
       "  <tbody>\n",
       "    <tr>\n",
       "      <th>0</th>\n",
       "      <td>1712</td>\n",
       "      <td>65f41c5a11228e225f5a1f7fecdda76385de5b42626d8b...</td>\n",
       "      <td>33aeb7c3-b1f5-42a0-a94f-9a78d26ca939</td>\n",
       "      <td>ProbabilitySpecialist_2019_08_05</td>\n",
       "      <td>3</td>\n",
       "      <td>1</td>\n",
       "      <td>Ordinal</td>\n",
       "      <td>1</td>\n",
       "    </tr>\n",
       "  </tbody>\n",
       "</table>\n",
       "</div>"
      ],
      "text/plain": [
       "   Article_num                                     Article_sha256  \\\n",
       "0         1712  65f41c5a11228e225f5a1f7fecdda76385de5b42626d8b...   \n",
       "\n",
       "                         quiz_task_uuid                  schema_namespace  \\\n",
       "0  33aeb7c3-b1f5-42a0-a94f-9a78d26ca939  ProbabilitySpecialist_2019_08_05   \n",
       "\n",
       "   num_answer_choices  question_Number question_type  agreed_answer  \n",
       "0                   3                1       Ordinal              1  "
      ]
     },
     "execution_count": 103,
     "metadata": {},
     "output_type": "execute_result"
    }
   ],
   "source": [
    "# This is just a very simple one row dataset with the relevant columns, but the actual IAA output has more outputs\n",
    "iaa = pd.read_csv(\"IAA-mock-output.csv\")\n",
    "iaa"
   ]
  },
  {
   "cell_type": "markdown",
   "metadata": {},
   "source": [
    "Important columns:\n",
    "- Article_num\n",
    "- Article_sha256\n",
    "- quiz_task_uuid\n",
    "- schema_namespace\n",
    "- num_answer_choices\n",
    "- question_Number\n",
    "- answer_uuid\n",
    "- question_type\n",
    "- agreed_answer"
   ]
  },
  {
   "cell_type": "markdown",
   "metadata": {},
   "source": [
    "Function that takes in **article_sha256** (string), **quiz_task_uuid** (string), and **question_Number** (int), and returns the **corresponding consensus answer** from IAA.\n",
    "\n",
    "The return value is a single int instead of the \"T1.Q1.A1\" format because I believe IAA processes and outputs just the number. \n",
    "\n",
    "(also let me know if there's a more efficient way to index the df)"
   ]
  },
  {
   "cell_type": "code",
   "execution_count": 104,
   "metadata": {},
   "outputs": [],
   "source": [
    "def get_consensus(article_sha256, quiz_task_uuid, question_Number):\n",
    "    answer_row = iaa.loc[(iaa[\"Article_sha256\"]==article_sha256)\n",
    "                  & (iaa[\"quiz_task_uuid\"]==quiz_task_uuid)\n",
    "                  & (iaa[\"question_Number\"]==question_Number)]\n",
    "    \n",
    "    return answer_row[\"agreed_answer\"].iloc[0]"
   ]
  },
  {
   "cell_type": "code",
   "execution_count": 105,
   "metadata": {},
   "outputs": [
    {
     "data": {
      "text/plain": [
       "1"
      ]
     },
     "execution_count": 105,
     "metadata": {},
     "output_type": "execute_result"
    }
   ],
   "source": [
    "get_consensus('65f41c5a11228e225f5a1f7fecdda76385de5b42626d8b7e4f6223081093b7f6',\n",
    "             '33aeb7c3-b1f5-42a0-a94f-9a78d26ca939',\n",
    "             1)"
   ]
  },
  {
   "cell_type": "code",
   "execution_count": 106,
   "metadata": {},
   "outputs": [],
   "source": [
    "def get_consensus(article_sha256, quiz_task_uuid, question_Number):\n",
    "    answer_row = iaa.loc[(iaa[\"Article_sha256\"]==article_sha256)\n",
    "                  & (iaa[\"quiz_task_uuid\"]==quiz_task_uuid)\n",
    "                  & (iaa[\"question_Number\"]==question_Number)]\n",
    "    \n",
    "    return answer_row[\"agreed_answer\"].iloc[0]"
   ]
  },
  {
   "cell_type": "markdown",
   "metadata": {},
   "source": [
    "Function that takes in **article_sha256** (string), **quiz_task_uuid** (string), and **question_Number** (int), and returns a **tuple containing the question type and number of answer choices, will help with scoring questions**.\n",
    "\n",
    "If the question_type and num_answer_choices works as expected, we shouldn't need to hardcode the question schema data anymore."
   ]
  },
  {
   "cell_type": "code",
   "execution_count": 107,
   "metadata": {},
   "outputs": [],
   "source": [
    "def get_question_meta(article_sha256, quiz_task_uuid, question_Number):\n",
    "    answer_row = iaa.loc[(iaa[\"Article_sha256\"]==article_sha256)\n",
    "                  & (iaa[\"quiz_task_uuid\"]==quiz_task_uuid)\n",
    "                  & (iaa[\"question_Number\"]==question_Number)]\n",
    "    \n",
    "    return (answer_row[\"question_type\"].iloc[0], answer_row[\"num_answer_choices\"].iloc[0])"
   ]
  },
  {
   "cell_type": "code",
   "execution_count": 108,
   "metadata": {},
   "outputs": [
    {
     "data": {
      "text/plain": [
       "('Ordinal', 3)"
      ]
     },
     "execution_count": 108,
     "metadata": {},
     "output_type": "execute_result"
    }
   ],
   "source": [
    "get_question_meta('65f41c5a11228e225f5a1f7fecdda76385de5b42626d8b7e4f6223081093b7f6',\n",
    "             '33aeb7c3-b1f5-42a0-a94f-9a78d26ca939',\n",
    "             1)"
   ]
  },
  {
   "cell_type": "code",
   "execution_count": null,
   "metadata": {},
   "outputs": [],
   "source": []
  }
 ],
 "metadata": {
  "kernelspec": {
   "display_name": "Python 3",
   "language": "python",
   "name": "python3"
  },
  "language_info": {
   "codemirror_mode": {
    "name": "ipython",
    "version": 3
   },
   "file_extension": ".py",
   "mimetype": "text/x-python",
   "name": "python",
   "nbconvert_exporter": "python",
   "pygments_lexer": "ipython3",
   "version": "3.8.3"
  }
 },
 "nbformat": 4,
 "nbformat_minor": 4
}
