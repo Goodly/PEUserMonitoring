{
 "cells": [
  {
   "cell_type": "code",
   "execution_count": 8,
   "metadata": {},
   "outputs": [],
   "source": [
    "import numpy as np\n",
    "import pandas as pd"
   ]
  },
  {
   "cell_type": "markdown",
   "metadata": {},
   "source": [
    "# Create / Update the Datahunt tracking JSON file\n",
    "The purpose of this file is to store how much of a certain datahunt has already been processed and scored, so when we process an updated version of the datahunt, we don't double-score."
   ]
  },
  {
   "cell_type": "code",
   "execution_count": 9,
   "metadata": {},
   "outputs": [
    {
     "data": {
      "text/plain": [
       "['Covid_Languagev1.1-2020-11-08T0834-DataHunt.csv',\n",
       " 'Covid_Evidencev1-2020-11-08T0834-DataHunt.csv',\n",
       " 'Covid_Reasoningv1-2020-11-08T0834-DataHunt.csv',\n",
       " 'Covid_Probabilityv1-2020-11-08T0834-DataHunt.csv']"
      ]
     },
     "execution_count": 9,
     "metadata": {},
     "output_type": "execute_result"
    }
   ],
   "source": [
    "# Read all of the files in 'data' folder into a list\n",
    "from os import listdir\n",
    "from os.path import isfile, join\n",
    "datahunt_files = [f for f in listdir(\"data\") if isfile(join(\"data\", f))]\n",
    "datahunt_files"
   ]
  },
  {
   "cell_type": "code",
   "execution_count": 10,
   "metadata": {},
   "outputs": [],
   "source": [
    "datahunt_tracking = {}"
   ]
  },
  {
   "cell_type": "code",
   "execution_count": 11,
   "metadata": {},
   "outputs": [],
   "source": [
    "# Add the number of rows in each file to dictionary 'datahunt_tracking'\n",
    "for file in datahunt_files:\n",
    "    if file in datahunt_tracking:\n",
    "        file_size = len(pd.read_csv(join(\"data\", file)))\n",
    "        datahunt_tracking[file] = max(datahunt_tracking[file], file_size)\n",
    "    else:\n",
    "        file_size = len(pd.read_csv(join(\"data\", file)))\n",
    "        datahunt_tracking[file] = file_size"
   ]
  },
  {
   "cell_type": "code",
   "execution_count": 12,
   "metadata": {
    "scrolled": false
   },
   "outputs": [
    {
     "data": {
      "text/plain": [
       "{'Covid_Languagev1.1-2020-11-08T0834-DataHunt.csv': 1557,\n",
       " 'Covid_Evidencev1-2020-11-08T0834-DataHunt.csv': 2957,\n",
       " 'Covid_Reasoningv1-2020-11-08T0834-DataHunt.csv': 622,\n",
       " 'Covid_Probabilityv1-2020-11-08T0834-DataHunt.csv': 1592}"
      ]
     },
     "execution_count": 12,
     "metadata": {},
     "output_type": "execute_result"
    }
   ],
   "source": [
    "datahunt_tracking"
   ]
  },
  {
   "cell_type": "code",
   "execution_count": 14,
   "metadata": {},
   "outputs": [],
   "source": [
    "# Export dictionary\n",
    "import json\n",
    "\n",
    "with open('datahunt_tracking.json', 'w') as fp:\n",
    "    json.dump(datahunt_tracking, fp)"
   ]
  },
  {
   "cell_type": "code",
   "execution_count": null,
   "metadata": {},
   "outputs": [],
   "source": []
  }
 ],
 "metadata": {
  "kernelspec": {
   "display_name": "Python 3",
   "language": "python",
   "name": "python3"
  },
  "language_info": {
   "codemirror_mode": {
    "name": "ipython",
    "version": 3
   },
   "file_extension": ".py",
   "mimetype": "text/x-python",
   "name": "python",
   "nbconvert_exporter": "python",
   "pygments_lexer": "ipython3",
   "version": "3.8.3"
  }
 },
 "nbformat": 4,
 "nbformat_minor": 4
}
