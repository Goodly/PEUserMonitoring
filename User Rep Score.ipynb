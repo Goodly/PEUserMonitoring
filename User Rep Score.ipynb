{
 "cells": [
  {
   "cell_type": "markdown",
   "metadata": {},
   "source": [
    "# User Rep Score"
   ]
  },
  {
   "cell_type": "code",
   "execution_count": 115,
   "metadata": {},
   "outputs": [],
   "source": [
    "import numpy as np\n",
    "import pandas as pd\n",
    "import re"
   ]
  },
  {
   "cell_type": "markdown",
   "metadata": {},
   "source": [
    "## Loading Data"
   ]
  },
  {
   "cell_type": "code",
   "execution_count": 116,
   "metadata": {},
   "outputs": [],
   "source": [
    "# Define a helper functions\n",
    "def set_sum(series):\n",
    "    ret = set()\n",
    "    for s in series:\n",
    "        ret = ret.union(s)\n",
    "    return ret\n",
    "\n",
    "def into_set(series):\n",
    "    ret = set()\n",
    "    for s in series:\n",
    "        ret.add(s)\n",
    "    return ret\n",
    "\n",
    "\n",
    "#Load in the data, process two consensus answers\n",
    "data = pd.read_csv(\"IAA-consensus/evidence_datahunt_with_consensus.csv\")\n",
    "data['adj_consensus'] = data['adj_consensus'].str.replace('\\'', '').str.replace('[', '').str.replace(']', '').str.split(\", \").apply(lambda x: set(x))\n",
    "data['iaa_consensus'] = data['iaa_consensus'].str.replace('\\'', '').str.replace('[', '').str.replace(']', '').str.split(\", \").apply(lambda x: set(x))\n",
    "\n",
    "\n",
    "#Reviewers' current reputation score\n",
    "old_rep_scores = pd.read_csv(\"./User Rep Score/score.csv\").set_index('contributor_uuid')\n",
    "old_rep_scores = {user: old_rep_scores.loc[user, \"score\"] if user in old_rep_scores.index else 0.5 \n",
    "              for user in data[\"contributor_uuid\"].unique()}\n",
    "rep_scores = {user:0 for user in old_rep_scores.keys()}\n",
    "\n",
    "#Produce pivot tables we need for calculating consensus\n",
    "adj_table = pd.pivot_table(data, values='adj_consensus', index='article_number', columns='question_label', aggfunc=set_sum)\n",
    "iaa_table = pd.pivot_table(data, values='iaa_consensus', index='article_number', columns='question_label', aggfunc=set_sum)"
   ]
  },
  {
   "cell_type": "markdown",
   "metadata": {},
   "source": [
    "## Update User Rep Score With Adjacent Consensus"
   ]
  },
  {
   "cell_type": "code",
   "execution_count": 101,
   "metadata": {},
   "outputs": [],
   "source": [
    "df = pd.pivot_table(data,\n",
    "                    values='answer_label', \n",
    "                    index='contributor_uuid', \n",
    "                    columns='question_label', \n",
    "                    aggfunc=into_set)\n",
    "for user in df.index:\n",
    "    review = df.loc[df.index == user, :]\n",
    "    n_adj_answers = 0\n",
    "    n_correct = 0\n",
    "    for question_label in df.columns:\n",
    "        if question_label in adj_table.columns and len(adj_table[question_label].iloc[0]) > 0:\n",
    "            n_adj_answers += 1\n",
    "            adj_ans = adj_table[question_label].iloc[0]\n",
    "            user_ans = review.loc[:, question_label].iloc[0]\n",
    "            if type(user_ans) is set and len(user_ans.intersection(adj_ans)) > 0:\n",
    "                n_correct += 1\n",
    "    rep_scores[user] = n_correct/n_adj_answers\n",
    "                \n",
    "for user in rep_scores.keys():\n",
    "    rep_scores[user] = 0.5 * rep_scores[user] + 0.5 * old_rep_scores[user]"
   ]
  },
  {
   "cell_type": "markdown",
   "metadata": {},
   "source": [
    "## Update User Rep Score With IAA Consensus"
   ]
  },
  {
   "cell_type": "code",
   "execution_count": 102,
   "metadata": {},
   "outputs": [],
   "source": [
    "old_rep_scores = rep_scores\n",
    "rep_scores = {user:[] for user in old_rep_scores.keys()}\n",
    "\n",
    "df = pd.pivot_table(data,\n",
    "                    values='answer_label', \n",
    "                    index='contributor_uuid', \n",
    "                    columns='question_label', \n",
    "                    aggfunc=into_set)\n",
    "for user in df.index:\n",
    "    review = df.loc[df.index == user, :]\n",
    "    n_iaa_answers = 0\n",
    "    n_correct = 0\n",
    "    for question_label in df.columns:\n",
    "        if question_label in iaa_table.columns and len(iaa_table[question_label].iloc[0]) > 0:\n",
    "            n_iaa_answers += 1\n",
    "            iaa_ans = iaa_table[question_label].iloc[0]\n",
    "            user_ans = review.loc[:, question_label].iloc[0]\n",
    "            if type(user_ans) is set and len(user_ans.intersection(iaa_ans)) > 0:\n",
    "                n_correct += 1\n",
    "    rep_scores[user].append(n_correct/n_iaa_answers)\n",
    "                \n",
    "for user in rep_scores.keys():\n",
    "    rep_scores[user] = 0.3 * sum(rep_scores[user])/len(rep_scores[user]) + 0.7 * old_rep_scores[user]"
   ]
  },
  {
   "cell_type": "code",
   "execution_count": 112,
   "metadata": {},
   "outputs": [],
   "source": [
    "#Update the repscore csv file\n",
    "csv = pd.read_csv(\"./User Rep Score/score.csv\").set_index('contributor_uuid')\n",
    "for user in rep_scores.keys():\n",
    "    if user in csv.index:\n",
    "        csv.loc[user, 'score'] = rep_scores[user]\n",
    "    else:\n",
    "        helper_dict = {user:rep_scores[user]}\n",
    "        helper_df = pd.DataFrame.from_dict(helper_dict, orient=\"index\")\n",
    "        helper_df.columns = ['score']\n",
    "        csv = csv.append(helper_df)\n",
    "csv = csv.reset_index()\n",
    "# csv.columns = ['contributor_uuid', 'score']\n",
    "# csv.to_csv(\"./User Rep Score/score.csv\", index=False)"
   ]
  },
  {
   "cell_type": "code",
   "execution_count": null,
   "metadata": {},
   "outputs": [],
   "source": []
  }
 ],
 "metadata": {
  "kernelspec": {
   "display_name": "Python 3",
   "language": "python",
   "name": "python3"
  },
  "language_info": {
   "codemirror_mode": {
    "name": "ipython",
    "version": 3
   },
   "file_extension": ".py",
   "mimetype": "text/x-python",
   "name": "python",
   "nbconvert_exporter": "python",
   "pygments_lexer": "ipython3",
   "version": "3.6.2"
  }
 },
 "nbformat": 4,
 "nbformat_minor": 2
}
